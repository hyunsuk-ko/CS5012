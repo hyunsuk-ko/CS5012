{
 "cells": [
  {
   "cell_type": "markdown",
   "metadata": {
    "id": "YgaqXBYJDx0D"
   },
   "source": [
    "# 5012 HW #2. Improve code Efficiency: Sort First!\n",
    "\n",
    "## Scenario. \n",
    "\n",
    "In a two class, classification problem, it is common to use a classifier that outputs confidences (rather than simply class labels). A good example of this is a Support Vector Machine. A pro for using such a classifier is that you gain more information -- specifically the confidence in the classification result. A con is that in order to make a final classification decision, a threshold value must be determined. For example, if a threshold of 0.75 is chosen, the class label 1 would be assigned for confidences greater than 0.75 and for confidences less than 0.75 a class label of 0 would be assigned. However, this begs the question: how is the threshold chosen?\n",
    "\n",
    "Many data scientists will choose a threshold based on the experimental results and/or operational constraints. In this code example, we assume that we have confidences and true labels for a large data set. To determine a good threshold we will compute the true positive rates (TPRs) and false positive rates (FPRs) at all relevant thresholds. The relevant thresholds are considered those that would change the TPRs and FPRs. \n",
    "\n",
    "In the code below, a function is defined to compute the TPR and FPR at all relevant thresholds. However, the code is not very efficient and can be improved. (Note there are tips and hints found in the comments.) \n",
    "\n",
    "Your task is the following:\n",
    "\n",
    "## Question 1\n",
    "**40 POINTS**  \n",
    "Assess the time complexity of the method computeAllTPRs(...). Provide a line-by-line assessment in comments identifying the proportional number of steps (bounding notation is sufficient) per line: eg, O(1), O(log n), O(n), etc. Also, derive a time step function T(n) for the entire method (where n is the size of input true_label).\n",
    "\n",
    "## Question 2\n",
    "**30 POINTS**  \n",
    "Implement a new function computeAllTPRs_improved(...) which performs the same task as computeAllTPRs but has a significantly reduced time complexity. Also provide a line-by-line assessment in comments identifying the proportional number of steps per line, and derive a time step function T(n) for the entire method (where n is the size of input true_label).\n",
    "\n",
    "## Question 3\n",
    "**30 POINTS**  \n",
    "Compare the theoretical time complexities of both methods and predict which is more efficient. Next, test your prediction by timing both methods on sample inputs of varying sizes. Create a plot of inputSize vs runtime (as done in similar class examples).  \n",
    "\n",
    "**NOTE: Do not include runtimes for graphing**\n",
    "\n",
    "**TOTAL POINTS: 100**\n",
    "\n",
    "---"
   ]
  },
  {
   "cell_type": "code",
   "execution_count": 1,
   "metadata": {
    "id": "tQs8b3ccEskN"
   },
   "outputs": [],
   "source": [
    "import matplotlib.pyplot as plt\n",
    "import random\n",
    "from copy import deepcopy\n",
    "from numpy import argmax"
   ]
  },
  {
   "cell_type": "markdown",
   "metadata": {
    "id": "l4t6Gd-XNWdr"
   },
   "source": [
    "Answer Question #1 in the comments of the code chunk below. \n",
    "\n",
    "### T(n): 1 + n + 1 + 1 + 1 + 1 + 1 + n(2n + 7) = 2$n^2$ + 8n + 6\n",
    "### $\\therefore n^2$"
   ]
  },
  {
   "cell_type": "code",
   "execution_count": 83,
   "metadata": {
    "id": "IFu90tkjEORa"
   },
   "outputs": [],
   "source": [
    "def computeAllTPRs(true_label, confs):\n",
    "    '''\n",
    "\n",
    "    inputs:\n",
    "     - true_label: list of labels, assumed to be 0 or 1 (a two class problem)\n",
    "     - confs: list of confidences\n",
    "\n",
    "    This method computes the True Positive Rate (TPRs) and FPRs for all relevant\n",
    "    thresholds given true_label and confs. Relevant thresholds are considered\n",
    "    all different values found in confs.\n",
    "    '''\n",
    "\n",
    "    # Define / initialize  variables\n",
    "    sentinelValue = -1 # used to replace max value found thus far  # O(1)\n",
    "    totalPositives = sum(true_label)                               # O(N)\n",
    "    totalNegatives = len(true_label) - totalPositives              # O(1)\n",
    "    #print(true_label)\n",
    "    truePositives = 0                                              # O(1)\n",
    "    falsePositives = 0                                             # O(1)\n",
    "    # Hint: Consider Memory Management\n",
    "    truePositiveRate = []                                          # O(1)\n",
    "    falsePositiveRate = []                                         # O(1)\n",
    "\n",
    "    #Hint: Although not explicitly clear, the loop structure below is an \n",
    "        #embeded loop ie, O(n^2) ... do you see why??\n",
    "    #Hint: If you sort the confidences first you can improve the iteration scheme.\n",
    "\n",
    "    # Iterate over all relevant thresholds. Compute TPR and FPR for each and \n",
    "    # append to truePositiveRate , falsePositiveRate lists. \n",
    "\n",
    "    for i in range(len(confs)):                                   # O(n)\n",
    "        maxVal = max(confs)                                       # O(n)\n",
    "        argMax = argmax(confs)                                    # O(n)\n",
    "        #print(argMax)\n",
    "        confs[argMax] = sentinelValue                             # O(1)\n",
    "        #print(confs)\n",
    "        if true_label[argMax]==1:                                 # O(1)\n",
    "            truePositives += 1                                    # O(1)\n",
    "        else:                                                     # O(1)\n",
    "            falsePositives += 1                                   # O(1)\n",
    "\n",
    "        truePositiveRate.append(truePositives/totalPositives)     # O(1)\n",
    "        falsePositiveRate.append(falsePositives/totalNegatives)   # O(1)\n",
    "    #print(\"Original TPR: \",truePositiveRate)\n",
    "    #print(\"Original FPR: \",falsePositiveRate)\n",
    "    '''\n",
    "    # Plot FPR vs TPR for all possible thresholds \n",
    "    plt.plot(falsePositiveRate,truePositiveRate, label ='class' + str(i) + ' to all')\n",
    "    plt.legend()\n",
    "    plt.xlabel('False Positive Rate')\n",
    "    plt.ylabel('True Positive Rate')\n",
    "    plt.show()\n",
    "    '''"
   ]
  },
  {
   "cell_type": "code",
   "execution_count": 84,
   "metadata": {},
   "outputs": [],
   "source": [
    "def testComputeAllTPRs(numSamples):\n",
    "    confList = []                         # O(1)\n",
    "    labels = []                           # O(1)\n",
    "    maxVal = 10000                        # O(1)\n",
    "    #numSamples = 10000\n",
    "    for i in range(0,numSamples):         # O(n)\n",
    "        n = random.randint(1,maxVal)\n",
    "        confList.append(n/maxVal)         # O(1)\n",
    "        if n/maxVal > .5:                 # O(1)\n",
    "            lab = 1                       # O(1)\n",
    "        else:                             # O(1)\n",
    "            lab = 0                       # O(1)\n",
    "        labels.append(lab)                # O(1)\n",
    "    #print(labels)\n",
    "    computeAllTPRs(labels, deepcopy(confList))  # Why a deepcopy here?\n",
    "    \n",
    "testComputeAllTPRs(15)"
   ]
  },
  {
   "cell_type": "code",
   "execution_count": 85,
   "metadata": {},
   "outputs": [],
   "source": [
    "def merge_sort(A):\n",
    "    if len(A) <= 1:\n",
    "        return A\n",
    "    mid = len(A) // 2\n",
    "    left_list = A[:mid]\n",
    "    right_list = A[mid:]\n",
    "    left_list = merge_sort(left_list)\n",
    "    right_list = merge_sort(right_list)\n",
    "    \n",
    "    return merge(left_list, right_list)\n",
    "\n",
    "def merge(left, right):\n",
    "    result = []\n",
    "    while len(left) > 0 or len(right) > 0:\n",
    "        if len(left) > 0 and len(right) > 0:\n",
    "            if left[0] <= right[0]:\n",
    "                result.append(left[0])\n",
    "                left = left[1:]\n",
    "            else:\n",
    "                result.append(right[0])\n",
    "                right = right[1:]\n",
    "        elif len(left) > 0:\n",
    "            result.append(left[0])\n",
    "            left = left[1:]\n",
    "        elif len(right) > 0:\n",
    "            result.append(right[0])\n",
    "            right = right[1:]\n",
    "    return result"
   ]
  },
  {
   "cell_type": "markdown",
   "metadata": {
    "id": "J0aNsuFFMzLt"
   },
   "source": [
    "Below, provide your implementation for Question #2.\n",
    "\n",
    "### T(n): n + n + 1 + 1 + 1 + 1 + 1 + nlogn + n(6) + 2 = nlogn + 8n + 7\n",
    "### $\\therefore nlogn$"
   ]
  },
  {
   "cell_type": "code",
   "execution_count": 86,
   "metadata": {
    "id": "I4SoYMYBMyzA"
   },
   "outputs": [],
   "source": [
    "def computeAllTPRs_improved(true_label, confs):\n",
    "    totalPositives = sum(true_label)                               # O(N)\n",
    "    totalNegatives = len(true_label) - totalPositives              # O(N)\n",
    "    truePositives = 0                                              # O(1)\n",
    "    falsePositives = 0                                             # O(1)\n",
    "    truePositiveRate = []                                          # O(1)\n",
    "    falsePositiveRate = []                                         # O(1)\n",
    "\n",
    "    #Hint: Although not explicitly clear, the loop structure below is an \n",
    "        #embeded loop ie, O(n^2) ... do you see why??\n",
    "    #Hint: If you sort the confidences first you can improve the iteration scheme.\n",
    "\n",
    "    # Iterate over all relevant thresholds. Compute TPR and FPR for each and \n",
    "    # append to truePositiveRate , falsePositiveRate lists. \n",
    "    \n",
    "    a = list(zip(confs, true_label))                              # O(1)\n",
    "    a = merge_sort(a)                                             # O(nlogn)\n",
    "    #print(a)                                                     \n",
    "    \n",
    "    for i in range(len(a), 0, -1):                                # O(n)\n",
    "        maxVal = a[i-1][0]                                        # O(1)\n",
    "        #print(\"maxVal:\", maxVal)\n",
    "        argMax = i-1                                              # O(1)\n",
    "        #print(a[argMax][1])\n",
    "        if a[argMax][1]==1:                                       # O(1)\n",
    "            truePositives += 1                                    # O(1)\n",
    "        else:                                                     # O(1)\n",
    "            falsePositives += 1                                   # O(1)\n",
    "\n",
    "        truePositiveRate.append(truePositives/totalPositives)     # O(1)\n",
    "        falsePositiveRate.append(falsePositives/totalNegatives)   # O(1)\n",
    "        \n",
    "    #print(\"Improved TPR: \",truePositiveRate)\n",
    "    #print(\"Improved FPR: \",falsePositiveRate)\n",
    "\n",
    "    # Plot FPR vs TPR for all possible thresholds \n",
    "    '''\n",
    "    plt.plot(falsePositiveRate,truePositiveRate, label ='class' + str(len(a)-1) + ' to all')\n",
    "    plt.legend()\n",
    "    plt.xlabel('False Positive Rate')\n",
    "    plt.ylabel('True Positive Rate')\n",
    "    plt.show()    \n",
    "    '''"
   ]
  },
  {
   "cell_type": "code",
   "execution_count": 87,
   "metadata": {},
   "outputs": [],
   "source": [
    "def testComputeAllTPRs_improved(numSamples):\n",
    "    confList = []                         # O(1)\n",
    "    labels = []                           # O(1)\n",
    "    maxVal = 10000                        # O(1)\n",
    "    #numSamples = 10000\n",
    "    for i in range(0,numSamples):         # O(n)\n",
    "        n = random.randint(1,maxVal)\n",
    "        confList.append(n/maxVal)         # O(1)\n",
    "        if n/maxVal > .5:                 # O(1)\n",
    "            lab = 1                       # O(1)\n",
    "        else:                             # O(1)\n",
    "            lab = 0                       # O(1)\n",
    "        labels.append(lab)                # O(1)\n",
    "    #print(labels)\n",
    "    #print(confList)\n",
    "    computeAllTPRs_improved(labels, deepcopy(confList))  # Why a deepcopy here?\n",
    "    \n",
    "testComputeAllTPRs_improved(20)"
   ]
  },
  {
   "cell_type": "markdown",
   "metadata": {
    "id": "lP72j3GqM6AH"
   },
   "source": [
    "Question #3. Below, provide your code which records and plots the runtime for the original and improved methods. "
   ]
  },
  {
   "cell_type": "code",
   "execution_count": 94,
   "metadata": {},
   "outputs": [
    {
     "data": {
      "text/plain": [
       "Text(0, 0.5, 'Runtime')"
      ]
     },
     "execution_count": 94,
     "metadata": {},
     "output_type": "execute_result"
    },
    {
     "data": {
      "image/png": "[encoded data removed]",
      "text/plain": [
       "<Figure size 432x288 with 1 Axes>"
      ]
     },
     "metadata": {
      "needs_background": "light"
     },
     "output_type": "display_data"
    }
   ],
   "source": [
    "'''\n",
    "Run trials and record the runtimes of each sorting algorithm\n",
    "'''\n",
    "## record the time results\n",
    "originalTime = []\n",
    "improvedTime  = []\n",
    "\n",
    "size = 1200\n",
    "stepSize = 100\n",
    "## calculate the time required to sort various size lists\n",
    "for i in range(0, size, stepSize):\n",
    "    ## generate the random list\n",
    "    rList = random.sample(range(0, size), i)\n",
    "    #print(rList)\n",
    "    \n",
    "    ## do the original\n",
    "    start = time.perf_counter()\n",
    "    testComputeAllTPRs(i)\n",
    "    originalTime.append(time.perf_counter() - start)\n",
    "    \n",
    "    ## do the improved\n",
    "    start = time.perf_counter()\n",
    "    testComputeAllTPRs_improved(i)\n",
    "    improvedTime.append(time.perf_counter() - start)\n",
    "\n",
    "## plot the results\n",
    "plt.plot(range(0, size, stepSize), originalTime, label = 'Original')\n",
    "plt.plot(range(0, size, stepSize), improvedTime, label = 'Improved')\n",
    "plt.legend(frameon = 'none')\n",
    "plt.title('Time Comparison of Original & Improved')\n",
    "plt.xlabel('List Size')\n",
    "plt.ylabel('Runtime')"
   ]
  },
  {
   "cell_type": "code",
   "execution_count": null,
   "metadata": {},
   "outputs": [],
   "source": []
  }
 ],
 "metadata": {
  "colab": {
   "collapsed_sections": [],
   "name": "5012_HW2_sortFirst.ipynb",
   "provenance": []
  },
  "kernelspec": {
   "display_name": "Python 3 (ipykernel)",
   "language": "python",
   "name": "python3"
  },
  "language_info": {
   "codemirror_mode": {
    "name": "ipython",
    "version": 3
   },
   "file_extension": ".py",
   "mimetype": "text/x-python",
   "name": "python",
   "nbconvert_exporter": "python",
   "pygments_lexer": "ipython3",
   "version": "3.8.8"
  }
 },
 "nbformat": 4,
 "nbformat_minor": 4
}
