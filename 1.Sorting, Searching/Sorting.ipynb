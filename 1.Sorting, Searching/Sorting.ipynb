{
 "cells": [
  {
   "cell_type": "code",
   "execution_count": 4,
   "id": "35f72309-a875-40f3-9eeb-bf1322e9a0a9",
   "metadata": {},
   "outputs": [],
   "source": [
    "import time"
   ]
  },
  {
   "cell_type": "markdown",
   "id": "4c34f187-4fa0-4a84-abcd-a5869cb49f43",
   "metadata": {},
   "source": [
    "## Bubble Sort: O($n^2$)"
   ]
  },
  {
   "cell_type": "code",
   "execution_count": 8,
   "id": "2a6d84e5-21f5-44bb-9199-c18248596fe7",
   "metadata": {},
   "outputs": [
    {
     "data": {
      "text/plain": [
       "[1, 2, 3, 6, 7, 8]"
      ]
     },
     "execution_count": 8,
     "metadata": {},
     "output_type": "execute_result"
    }
   ],
   "source": [
    "def bubblesort(A):\n",
    "    for i in range(len(A)):\n",
    "        for j in range(len(A) - 1, i, -1):\n",
    "            if A[j-1] > A[j]:\n",
    "                swap(A, j-1, j)\n",
    "                \n",
    "    return A\n",
    "                \n",
    "def swap(A, x, y):\n",
    "    tmp = A[x]\n",
    "    A[x] = A[y]\n",
    "    A[y] = tmp\n",
    "\n",
    "\n",
    "bubblesort([1,7,3,2,8,6])"
   ]
  },
  {
   "cell_type": "markdown",
   "id": "c944772a-80aa-4ae3-a152-ac0734f86ab9",
   "metadata": {},
   "source": [
    "##  Insertion Sort: O($n^2$)"
   ]
  },
  {
   "cell_type": "code",
   "execution_count": 12,
   "id": "e9030e5f-f214-47a6-8785-731cda1ba8e2",
   "metadata": {},
   "outputs": [
    {
     "data": {
      "text/plain": [
       "[1, 2, 3, 6, 7, 8]"
      ]
     },
     "execution_count": 12,
     "metadata": {},
     "output_type": "execute_result"
    }
   ],
   "source": [
    "def insertion_sort(A):\n",
    "    n = len(A)\n",
    "    for j in range(1,n):\n",
    "        key = A[j]\n",
    "        i = j - 1\n",
    "        while i >= 0 and A[i] > key:\n",
    "            A[i+1] = A[i]\n",
    "            i = i - 1\n",
    "        A[i+1] = key\n",
    "        \n",
    "    return A\n",
    "\n",
    "insertion_sort([1,7,3,2,8,6])"
   ]
  },
  {
   "cell_type": "markdown",
   "id": "a945d638-1c16-4e40-b8e5-1346b1f6be7a",
   "metadata": {},
   "source": [
    "## Merge Sort: O(nlogn)"
   ]
  },
  {
   "cell_type": "code",
   "execution_count": 10,
   "id": "f0fa0f2a-c8e8-4649-a469-f93cb0e85a1c",
   "metadata": {},
   "outputs": [
    {
     "data": {
      "text/plain": [
       "[1, 2, 3, 6, 7, 8]"
      ]
     },
     "execution_count": 10,
     "metadata": {},
     "output_type": "execute_result"
    }
   ],
   "source": [
    "def merge_sort(A):\n",
    "    if len(A) <= 1:\n",
    "        return A\n",
    "    mid = len(A) // 2\n",
    "    left_list = A[:mid]\n",
    "    right_list = A[mid:]\n",
    "    left_list = merge_sort(left_list)\n",
    "    right_list = merge_sort(right_list)\n",
    "    \n",
    "    return merge(left_list, right_list)\n",
    "\n",
    "def merge(left, right):\n",
    "    result = []\n",
    "    while len(left) > 0 or len(right) > 0:\n",
    "        if len(left) > 0 and len(right) > 0:\n",
    "            if left[0] <= right[0]:\n",
    "                result.append(left[0])\n",
    "                left = left[1:]\n",
    "            else:\n",
    "                result.append(right[0])\n",
    "                right = right[1:]\n",
    "        elif len(left) > 0:\n",
    "            result.append(left[0])\n",
    "            left = left[1:]\n",
    "        elif len(right) > 0:\n",
    "            result.append(right[0])\n",
    "            right = right[1:]\n",
    "    return result\n",
    "\n",
    "merge_sort([1,7,3,2,8,6])"
   ]
  },
  {
   "cell_type": "markdown",
   "id": "65954dcc-0391-400d-bc9d-428d023cb892",
   "metadata": {},
   "source": [
    "## Quicksort: Average = O(nlogn) | Worst = O($n^2$)"
   ]
  },
  {
   "cell_type": "code",
   "execution_count": 1,
   "id": "236ea7e0-2362-4ad5-bcfe-88eeaf4222a8",
   "metadata": {},
   "outputs": [
    {
     "data": {
      "text/plain": [
       "[1, 2, 3, 6, 7, 8]"
      ]
     },
     "execution_count": 1,
     "metadata": {},
     "output_type": "execute_result"
    }
   ],
   "source": [
    "def quick_sort(A, start_idx, end_idx):\n",
    "    if start_idx < end_idx:\n",
    "        q = partition(A, start_idx, end_idx)\n",
    "    if start_idx < q - 1:\n",
    "        quick_sort(A, start_idx, q - 1)\n",
    "    if q < end_idx:\n",
    "        quick_sort(A, q, end_idx)\n",
    "               \n",
    "    return A\n",
    "\n",
    "def partition(A, start_idx, end_idx):\n",
    "    # setting pivot the middle value of a list\n",
    "    pivot = A[int((start_idx + end_idx) / 2)] \n",
    "    while (start_idx <= end_idx):\n",
    "        # iterate until left value is lesser than pivot\n",
    "        while (A[start_idx] < pivot):\n",
    "            start_idx += 1\n",
    "            \n",
    "        # iterate until right value is larger than pivot\n",
    "        while (A[end_idx] > pivot):\n",
    "            end_idx -= 1\n",
    "            \n",
    "        if (start_idx <= end_idx):\n",
    "            swap(A, start_idx, end_idx)\n",
    "            start_idx += 1\n",
    "            end_idx -= 1\n",
    "    # returns the start index of new partition.        \n",
    "    return start_idx\n",
    "\n",
    "# swap left value and right value \n",
    "def swap(A, start_idx, end_idx):\n",
    "    tmp = A[start_idx]\n",
    "    A[start_idx] = A[end_idx]\n",
    "    A[end_idx] = tmp\n",
    "\n",
    "\n",
    "quick_sort([1,7,3,2,8,6], 0, 5)"
   ]
  },
  {
   "cell_type": "code",
   "execution_count": null,
   "id": "e8daa512-e202-48ef-b7b4-4e520537cd2e",
   "metadata": {},
   "outputs": [],
   "source": []
  }
 ],
 "metadata": {
  "kernelspec": {
   "display_name": "Python 3 (ipykernel)",
   "language": "python",
   "name": "python3"
  },
  "language_info": {
   "codemirror_mode": {
    "name": "ipython",
    "version": 3
   },
   "file_extension": ".py",
   "mimetype": "text/x-python",
   "name": "python",
   "nbconvert_exporter": "python",
   "pygments_lexer": "ipython3",
   "version": "3.8.8"
  }
 },
 "nbformat": 4,
 "nbformat_minor": 5
}
