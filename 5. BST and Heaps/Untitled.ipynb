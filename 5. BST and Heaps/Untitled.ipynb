{
 "cells": [
  {
   "cell_type": "code",
   "execution_count": 6,
   "metadata": {},
   "outputs": [],
   "source": [
    "class BinaryTree:\n",
    "    class Node:\n",
    "        def __init__(self, val, left = None, right = None): # Constructor of Node class\n",
    "            self.val = val\n",
    "            self.left = left\n",
    "            self.right = right\n",
    "        def getVal(self):\n",
    "            return self.val\n",
    "        def setVal(self, newval):\n",
    "            self.val = newval\n",
    "        def setLeft(self, newleft):\n",
    "            self.left = newleft\n",
    "        def setRight(self, newright):\n",
    "            self.right = newright\n",
    "        \n",
    "    def __init__(self, root = None):\n",
    "        self.root = root"
   ]
  },
  {
   "cell_type": "code",
   "execution_count": 7,
   "metadata": {},
   "outputs": [],
   "source": [
    "theRoot = BinaryTree.Node(3)\n",
    "n1 = BinaryTree.Node(1)\n",
    "n2 = BinaryTree.Node(2)\n",
    "n3 = BinaryTree.Node(11)\n",
    "n4 = BinaryTree.Node(6)\n",
    "n5 = BinaryTree.Node(9)\n",
    "n6 = BinaryTree.Node(5)"
   ]
  },
  {
   "cell_type": "code",
   "execution_count": 9,
   "metadata": {},
   "outputs": [],
   "source": [
    "myTree = BinaryTree(theRoot)\n",
    "myTree.root.setLeft(n1)\n",
    "myTree.root.setRight(n4)\n",
    "n1.setLeft(n2)\n",
    "n1.setRight(n3)\n",
    "n4.setLeft(n5)\n",
    "n4.setRight(n6)"
   ]
  }
 ],
 "metadata": {
  "kernelspec": {
   "display_name": "Python 3",
   "language": "python",
   "name": "python3"
  },
  "language_info": {
   "codemirror_mode": {
    "name": "ipython",
    "version": 3
   },
   "file_extension": ".py",
   "mimetype": "text/x-python",
   "name": "python",
   "nbconvert_exporter": "python",
   "pygments_lexer": "ipython3",
   "version": "3.8.8"
  }
 },
 "nbformat": 4,
 "nbformat_minor": 4
}
